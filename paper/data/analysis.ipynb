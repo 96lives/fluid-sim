{
 "cells": [
  {
   "cell_type": "code",
   "execution_count": 2,
   "metadata": {},
   "outputs": [],
   "source": [
    "import numpy as np\n",
    "from numpy import genfromtxt\n",
    "import matplotlib.pyplot as plt\n",
    "import matplotlib.patches as mpatches"
   ]
  },
  {
   "cell_type": "code",
   "execution_count": 3,
   "metadata": {},
   "outputs": [
     ]
    }
   ],
   "source": [
    "perf_data_semilag = []\n",
    "filenames = [\"perf-semilagrangian-state{}.csv\".format(i) for i in range(3)]\n",
    "for filename in filenames:\n",
    "    perf_data_semilag.append(genfromtxt(filename, delimiter=',', encoding='utf-8').astype(np.float))\n",
    "\n",
    "perf_data_pic = []\n",
    "filenames = [\"perf-pic-state{}.csv\".format(i) for i in range(3)]\n",
    "for filename in filenames:\n",
    "    perf_data_pic.append(genfromtxt(filename, delimiter=',', encoding='utf-8').astype(np.float))\n",
    "    \n",
    "print(perf_data_semilag[0])\n",
    "\n",
    "def perf_avg(arr, numStages):\n",
    "    return np.sum(arr) / arr.shape[0]\n",
    "\n",
    "def perf_avg_by_stage(arr, numStages):\n",
    "    avg = np.zeros(numStages, dtype=float)\n",
    "    for i in range(numStages):\n",
    "        avg[i] = np.sum(arr[:,i]) / arr.shape[0]\n",
    "    return avg\n",
    "\n",
    "avg_by_stage = np.zeros(7, dtype=float)\n",
    "for perf in perf_data_semilag:\n",
    "    print(perf_avg(perf, 7))\n",
    "    avg_by_stage += perf_avg_by_stage(perf, 7)\n",
    "avg_by_stage /= 3\n",
    "with np.printoptions(precision=3):\n",
    "    print(avg_by_stage)\n",
    "    \n",
    "avg_by_stage = np.zeros(8, dtype=float)\n",
    "for perf in perf_data_pic:\n",
    "    print(perf_avg(perf, 8))\n",
    "    avg_by_stage += perf_avg_by_stage(perf, 8)\n",
    "avg_by_stage /= 3\n",
    "with np.printoptions(precision=3):\n",
    "    print(avg_by_stage)\n",
    "    "
   ]
  },
  {
   "cell_type": "code",
   "execution_count": 13,
   "metadata": {},
   "outputs": [
   ],
   "source": [
    "con_data_pic = []\n",
    "filenames = []\n",
    "filenames.append(\"conservation-semilag-state1.csv\")\n",
    "filenames.append(\"conservation-pic-alpha100-state1.csv\")\n",
    "\n",
    "for filename in filenames:\n",
    "    con_data_pic.append(\n",
    "        genfromtxt(filename, delimiter=',', encoding='utf-8').astype(np.float))\n",
    "    \n",
    "for entry_idx in range(3):\n",
    "    plt.figure(entry_idx)\n",
    "    for i, data in enumerate(con_data_pic):\n",
    "        values = data[1:,entry_idx]\n",
    "        if i == 0:\n",
    "            plt.plot(range(values.shape[0]), values,\n",
    "                     label=\"semi-lagrangian\")\n",
    "        else:\n",
    "            plt.plot(range(values.shape[0]), values,\n",
    "                     label=\"particle-in-cell\")\n",
    "        plt.legend()\n",
    "    \n",
    "plt.show()"
   ]
  }
 ],
 "metadata": {
  "kernelspec": {
   "display_name": "Python 3",
   "language": "python",
   "name": "python3"
  },
  "language_info": {
   "codemirror_mode": {
    "name": "ipython",
    "version": 3
   },
   "file_extension": ".py",
   "mimetype": "text/x-python",
   "name": "python",
   "nbconvert_exporter": "python",
   "pygments_lexer": "ipython3",
   "version": "3.7.1"
  }
 },
 "nbformat": 4,
 "nbformat_minor": 2
}
